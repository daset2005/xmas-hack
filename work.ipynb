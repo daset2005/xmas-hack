{
 "cells": [
  {
   "cell_type": "markdown",
   "id": "c0cdf0e4",
   "metadata": {},
   "source": [
    "## Описание данных\n",
    "* TVR Index - Нормированный рейтинг блока (его нужно спрогнозировать). За 1 берется средний рейтинг блока за 2023 год\n",
    "\n",
    "* Date - Дата выхода блока\n",
    "\n",
    "* Break flight ID - Идентификатор выхода блока\n",
    "\n",
    "* Break flight start - Время начала рекламного блока\n",
    "\n",
    "* Break flight end - Время окончания рекламного блока\n",
    "\n",
    "* Break content - Содержание блока: Коммерческий (обычная реклама), Спонсорский, Блок анонсов телепередач\n",
    "\n",
    "* Break distribution - Распространение блока: Network (по всей России), Orbital (по всей России, если не перекрыт локальной рекламой), Local (локальная реклама)\n",
    "\n",
    "* Programme - Название программы, в которой выходит рекламный блок\n",
    "\n",
    "* Programme flight start - Время начала программы, в которой выходит рекламный блок\n",
    "\n",
    "* Programme flight end - Время окончания программы, в которой выходит рекламный блок\n",
    "\n",
    "* Programme category - Категория программы\n",
    "\n",
    "* Programme genre - Жанр программы"
   ]
  },
  {
   "cell_type": "markdown",
   "id": "bb1bb357",
   "metadata": {},
   "source": [
    "## Загрузка данных"
   ]
  },
  {
   "cell_type": "code",
   "execution_count": 1,
   "id": "e50765f9",
   "metadata": {},
   "outputs": [],
   "source": [
    "import pandas as pd\n",
    "from io import StringIO\n",
    "import warnings\n",
    "warnings.filterwarnings('ignore')"
   ]
  },
  {
   "cell_type": "code",
   "execution_count": 2,
   "id": "97be41f0",
   "metadata": {},
   "outputs": [],
   "source": [
    "# функция для чтения\n",
    "def read_data(file_path, parse_dates=[]):\n",
    "    with open(file_path, 'r', encoding='utf-8') as file:\n",
    "        data = file.read()\n",
    "\n",
    "    lines = data.split('\\n')\n",
    "    tab_separated_data = StringIO('\\n'.join(lines))\n",
    "\n",
    "    df = pd.read_csv(tab_separated_data, sep='\\t', parse_dates=parse_dates, dayfirst=True)\n",
    "\n",
    "    return df"
   ]
  },
  {
   "cell_type": "code",
   "execution_count": 3,
   "id": "a0fde348",
   "metadata": {},
   "outputs": [
    {
     "data": {
      "text/html": [
       "<div>\n",
       "<style scoped>\n",
       "    .dataframe tbody tr th:only-of-type {\n",
       "        vertical-align: middle;\n",
       "    }\n",
       "\n",
       "    .dataframe tbody tr th {\n",
       "        vertical-align: top;\n",
       "    }\n",
       "\n",
       "    .dataframe thead th {\n",
       "        text-align: right;\n",
       "    }\n",
       "</style>\n",
       "<table border=\"1\" class=\"dataframe\">\n",
       "  <thead>\n",
       "    <tr style=\"text-align: right;\">\n",
       "      <th></th>\n",
       "      <th>TVR Index</th>\n",
       "      <th>Date</th>\n",
       "      <th>Break flight ID</th>\n",
       "      <th>Break flight start</th>\n",
       "      <th>Break flight end</th>\n",
       "      <th>Break content</th>\n",
       "      <th>Break distribution</th>\n",
       "      <th>Programme</th>\n",
       "      <th>Programme flight start</th>\n",
       "      <th>Programme flight end</th>\n",
       "      <th>Programme category</th>\n",
       "      <th>Programme genre</th>\n",
       "    </tr>\n",
       "  </thead>\n",
       "  <tbody>\n",
       "    <tr>\n",
       "      <th>0</th>\n",
       "      <td>0,614692654</td>\n",
       "      <td>2023-01-02</td>\n",
       "      <td>4870830561</td>\n",
       "      <td>8:17:33</td>\n",
       "      <td>8:21:40</td>\n",
       "      <td>Commercial</td>\n",
       "      <td>Network</td>\n",
       "      <td>Telekanal \"Dobroe utro\"</td>\n",
       "      <td>8:00:13</td>\n",
       "      <td>10:00:14</td>\n",
       "      <td>Morning airplay</td>\n",
       "      <td>Entertainment programs</td>\n",
       "    </tr>\n",
       "    <tr>\n",
       "      <th>1</th>\n",
       "      <td>0,869565217</td>\n",
       "      <td>2023-01-02</td>\n",
       "      <td>4870830614</td>\n",
       "      <td>8:34:45</td>\n",
       "      <td>8:38:52</td>\n",
       "      <td>Commercial</td>\n",
       "      <td>Network</td>\n",
       "      <td>Telekanal \"Dobroe utro\"</td>\n",
       "      <td>8:00:13</td>\n",
       "      <td>10:00:14</td>\n",
       "      <td>Morning airplay</td>\n",
       "      <td>Entertainment programs</td>\n",
       "    </tr>\n",
       "    <tr>\n",
       "      <th>2</th>\n",
       "      <td>0,989505247</td>\n",
       "      <td>2023-01-02</td>\n",
       "      <td>4870830629</td>\n",
       "      <td>8:52:19</td>\n",
       "      <td>8:56:23</td>\n",
       "      <td>Commercial</td>\n",
       "      <td>Network</td>\n",
       "      <td>Telekanal \"Dobroe utro\"</td>\n",
       "      <td>8:00:13</td>\n",
       "      <td>10:00:14</td>\n",
       "      <td>Morning airplay</td>\n",
       "      <td>Entertainment programs</td>\n",
       "    </tr>\n",
       "    <tr>\n",
       "      <th>3</th>\n",
       "      <td>0,884557721</td>\n",
       "      <td>2023-01-02</td>\n",
       "      <td>4870830684</td>\n",
       "      <td>8:56:31</td>\n",
       "      <td>8:57:28</td>\n",
       "      <td>Announcement</td>\n",
       "      <td>Network</td>\n",
       "      <td>Telekanal \"Dobroe utro\"</td>\n",
       "      <td>8:00:13</td>\n",
       "      <td>10:00:14</td>\n",
       "      <td>Morning airplay</td>\n",
       "      <td>Entertainment programs</td>\n",
       "    </tr>\n",
       "    <tr>\n",
       "      <th>4</th>\n",
       "      <td>0,83958021</td>\n",
       "      <td>2023-01-02</td>\n",
       "      <td>4870830685</td>\n",
       "      <td>9:12:04</td>\n",
       "      <td>9:16:13</td>\n",
       "      <td>Commercial</td>\n",
       "      <td>Network</td>\n",
       "      <td>Telekanal \"Dobroe utro\"</td>\n",
       "      <td>8:00:13</td>\n",
       "      <td>10:00:14</td>\n",
       "      <td>Morning airplay</td>\n",
       "      <td>Entertainment programs</td>\n",
       "    </tr>\n",
       "    <tr>\n",
       "      <th>...</th>\n",
       "      <td>...</td>\n",
       "      <td>...</td>\n",
       "      <td>...</td>\n",
       "      <td>...</td>\n",
       "      <td>...</td>\n",
       "      <td>...</td>\n",
       "      <td>...</td>\n",
       "      <td>...</td>\n",
       "      <td>...</td>\n",
       "      <td>...</td>\n",
       "      <td>...</td>\n",
       "      <td>...</td>\n",
       "    </tr>\n",
       "    <tr>\n",
       "      <th>30677</th>\n",
       "      <td>0,029985007</td>\n",
       "      <td>2023-10-31</td>\n",
       "      <td>5335333196</td>\n",
       "      <td>27:43:40</td>\n",
       "      <td>27:44:07</td>\n",
       "      <td>Announcement</td>\n",
       "      <td>Network</td>\n",
       "      <td>Podkast.Lab</td>\n",
       "      <td>27:27:49</td>\n",
       "      <td>28:12:28</td>\n",
       "      <td>Entertainment talk show</td>\n",
       "      <td>Entertainment programs</td>\n",
       "    </tr>\n",
       "    <tr>\n",
       "      <th>30678</th>\n",
       "      <td>0,029985007</td>\n",
       "      <td>2023-10-31</td>\n",
       "      <td>5335333197</td>\n",
       "      <td>27:44:07</td>\n",
       "      <td>27:48:13</td>\n",
       "      <td>Commercial</td>\n",
       "      <td>Network</td>\n",
       "      <td>Podkast.Lab</td>\n",
       "      <td>27:27:49</td>\n",
       "      <td>28:12:28</td>\n",
       "      <td>Entertainment talk show</td>\n",
       "      <td>Entertainment programs</td>\n",
       "    </tr>\n",
       "    <tr>\n",
       "      <th>30679</th>\n",
       "      <td>0,014992504</td>\n",
       "      <td>2023-10-31</td>\n",
       "      <td>5335333212</td>\n",
       "      <td>28:02:10</td>\n",
       "      <td>28:06:16</td>\n",
       "      <td>Commercial</td>\n",
       "      <td>Network</td>\n",
       "      <td>Podkast.Lab</td>\n",
       "      <td>27:27:49</td>\n",
       "      <td>28:12:28</td>\n",
       "      <td>Entertainment talk show</td>\n",
       "      <td>Entertainment programs</td>\n",
       "    </tr>\n",
       "    <tr>\n",
       "      <th>30680</th>\n",
       "      <td>0,029985007</td>\n",
       "      <td>2023-10-31</td>\n",
       "      <td>5335333228</td>\n",
       "      <td>28:26:20</td>\n",
       "      <td>28:30:25</td>\n",
       "      <td>Commercial</td>\n",
       "      <td>Network</td>\n",
       "      <td>Podkast.Lab</td>\n",
       "      <td>28:12:28</td>\n",
       "      <td>28:56:34</td>\n",
       "      <td>Entertainment talk show</td>\n",
       "      <td>Entertainment programs</td>\n",
       "    </tr>\n",
       "    <tr>\n",
       "      <th>30681</th>\n",
       "      <td>0,044977511</td>\n",
       "      <td>2023-10-31</td>\n",
       "      <td>5335333243</td>\n",
       "      <td>28:41:09</td>\n",
       "      <td>28:45:14</td>\n",
       "      <td>Commercial</td>\n",
       "      <td>Network</td>\n",
       "      <td>Podkast.Lab</td>\n",
       "      <td>28:12:28</td>\n",
       "      <td>28:56:34</td>\n",
       "      <td>Entertainment talk show</td>\n",
       "      <td>Entertainment programs</td>\n",
       "    </tr>\n",
       "  </tbody>\n",
       "</table>\n",
       "<p>30682 rows × 12 columns</p>\n",
       "</div>"
      ],
      "text/plain": [
       "         TVR Index       Date  Break flight ID Break flight start  \\\n",
       "0      0,614692654 2023-01-02       4870830561            8:17:33   \n",
       "1      0,869565217 2023-01-02       4870830614            8:34:45   \n",
       "2      0,989505247 2023-01-02       4870830629            8:52:19   \n",
       "3      0,884557721 2023-01-02       4870830684            8:56:31   \n",
       "4       0,83958021 2023-01-02       4870830685            9:12:04   \n",
       "...            ...        ...              ...                ...   \n",
       "30677  0,029985007 2023-10-31       5335333196           27:43:40   \n",
       "30678  0,029985007 2023-10-31       5335333197           27:44:07   \n",
       "30679  0,014992504 2023-10-31       5335333212           28:02:10   \n",
       "30680  0,029985007 2023-10-31       5335333228           28:26:20   \n",
       "30681  0,044977511 2023-10-31       5335333243           28:41:09   \n",
       "\n",
       "      Break flight end Break content Break distribution  \\\n",
       "0              8:21:40    Commercial            Network   \n",
       "1              8:38:52    Commercial            Network   \n",
       "2              8:56:23    Commercial            Network   \n",
       "3              8:57:28  Announcement            Network   \n",
       "4              9:16:13    Commercial            Network   \n",
       "...                ...           ...                ...   \n",
       "30677         27:44:07  Announcement            Network   \n",
       "30678         27:48:13    Commercial            Network   \n",
       "30679         28:06:16    Commercial            Network   \n",
       "30680         28:30:25    Commercial            Network   \n",
       "30681         28:45:14    Commercial            Network   \n",
       "\n",
       "                     Programme Programme flight start Programme flight end  \\\n",
       "0      Telekanal \"Dobroe utro\"                8:00:13             10:00:14   \n",
       "1      Telekanal \"Dobroe utro\"                8:00:13             10:00:14   \n",
       "2      Telekanal \"Dobroe utro\"                8:00:13             10:00:14   \n",
       "3      Telekanal \"Dobroe utro\"                8:00:13             10:00:14   \n",
       "4      Telekanal \"Dobroe utro\"                8:00:13             10:00:14   \n",
       "...                        ...                    ...                  ...   \n",
       "30677              Podkast.Lab               27:27:49             28:12:28   \n",
       "30678              Podkast.Lab               27:27:49             28:12:28   \n",
       "30679              Podkast.Lab               27:27:49             28:12:28   \n",
       "30680              Podkast.Lab               28:12:28             28:56:34   \n",
       "30681              Podkast.Lab               28:12:28             28:56:34   \n",
       "\n",
       "            Programme category         Programme genre  \n",
       "0              Morning airplay  Entertainment programs  \n",
       "1              Morning airplay  Entertainment programs  \n",
       "2              Morning airplay  Entertainment programs  \n",
       "3              Morning airplay  Entertainment programs  \n",
       "4              Morning airplay  Entertainment programs  \n",
       "...                        ...                     ...  \n",
       "30677  Entertainment talk show  Entertainment programs  \n",
       "30678  Entertainment talk show  Entertainment programs  \n",
       "30679  Entertainment talk show  Entertainment programs  \n",
       "30680  Entertainment talk show  Entertainment programs  \n",
       "30681  Entertainment talk show  Entertainment programs  \n",
       "\n",
       "[30682 rows x 12 columns]"
      ]
     },
     "execution_count": 3,
     "metadata": {},
     "output_type": "execute_result"
    }
   ],
   "source": [
    "# чтение\n",
    "file_path = './data/train.txt'\n",
    "parse_dates=[1]\n",
    "df = read_data(file_path, parse_dates)\n",
    "df"
   ]
  },
  {
   "cell_type": "code",
   "execution_count": 4,
   "id": "600125d2",
   "metadata": {},
   "outputs": [
    {
     "name": "stdout",
     "output_type": "stream",
     "text": [
      "<class 'pandas.core.frame.DataFrame'>\n",
      "RangeIndex: 30682 entries, 0 to 30681\n",
      "Data columns (total 12 columns):\n",
      " #   Column                  Non-Null Count  Dtype         \n",
      "---  ------                  --------------  -----         \n",
      " 0   TVR Index               30682 non-null  object        \n",
      " 1   Date                    30682 non-null  datetime64[ns]\n",
      " 2   Break flight ID         30682 non-null  int64         \n",
      " 3   Break flight start      30682 non-null  object        \n",
      " 4   Break flight end        30682 non-null  object        \n",
      " 5   Break content           30682 non-null  object        \n",
      " 6   Break distribution      30682 non-null  object        \n",
      " 7   Programme               30682 non-null  object        \n",
      " 8   Programme flight start  30682 non-null  object        \n",
      " 9   Programme flight end    30682 non-null  object        \n",
      " 10  Programme category      30682 non-null  object        \n",
      " 11  Programme genre         30682 non-null  object        \n",
      "dtypes: datetime64[ns](1), int64(1), object(10)\n",
      "memory usage: 2.8+ MB\n"
     ]
    }
   ],
   "source": [
    "# статистика\n",
    "df.info()"
   ]
  },
  {
   "cell_type": "code",
   "execution_count": 5,
   "id": "43547bb3",
   "metadata": {},
   "outputs": [
    {
     "data": {
      "text/html": [
       "<div>\n",
       "<style scoped>\n",
       "    .dataframe tbody tr th:only-of-type {\n",
       "        vertical-align: middle;\n",
       "    }\n",
       "\n",
       "    .dataframe tbody tr th {\n",
       "        vertical-align: top;\n",
       "    }\n",
       "\n",
       "    .dataframe thead th {\n",
       "        text-align: right;\n",
       "    }\n",
       "</style>\n",
       "<table border=\"1\" class=\"dataframe\">\n",
       "  <thead>\n",
       "    <tr style=\"text-align: right;\">\n",
       "      <th></th>\n",
       "      <th>Break flight ID</th>\n",
       "    </tr>\n",
       "  </thead>\n",
       "  <tbody>\n",
       "    <tr>\n",
       "      <th>count</th>\n",
       "      <td>3.068200e+04</td>\n",
       "    </tr>\n",
       "    <tr>\n",
       "      <th>mean</th>\n",
       "      <td>5.100496e+09</td>\n",
       "    </tr>\n",
       "    <tr>\n",
       "      <th>std</th>\n",
       "      <td>1.338851e+08</td>\n",
       "    </tr>\n",
       "    <tr>\n",
       "      <th>min</th>\n",
       "      <td>4.870831e+09</td>\n",
       "    </tr>\n",
       "    <tr>\n",
       "      <th>25%</th>\n",
       "      <td>4.984457e+09</td>\n",
       "    </tr>\n",
       "    <tr>\n",
       "      <th>50%</th>\n",
       "      <td>5.098226e+09</td>\n",
       "    </tr>\n",
       "    <tr>\n",
       "      <th>75%</th>\n",
       "      <td>5.215397e+09</td>\n",
       "    </tr>\n",
       "    <tr>\n",
       "      <th>max</th>\n",
       "      <td>5.335333e+09</td>\n",
       "    </tr>\n",
       "  </tbody>\n",
       "</table>\n",
       "</div>"
      ],
      "text/plain": [
       "       Break flight ID\n",
       "count     3.068200e+04\n",
       "mean      5.100496e+09\n",
       "std       1.338851e+08\n",
       "min       4.870831e+09\n",
       "25%       4.984457e+09\n",
       "50%       5.098226e+09\n",
       "75%       5.215397e+09\n",
       "max       5.335333e+09"
      ]
     },
     "execution_count": 5,
     "metadata": {},
     "output_type": "execute_result"
    }
   ],
   "source": [
    "# статистика \n",
    "df.describe()"
   ]
  },
  {
   "cell_type": "markdown",
   "id": "b74fdc0b",
   "metadata": {},
   "source": [
    "## Обработка данных"
   ]
  },
  {
   "cell_type": "code",
   "execution_count": 6,
   "id": "134f1b37",
   "metadata": {},
   "outputs": [],
   "source": [
    "import holidays\n",
    "from sklearn.preprocessing import LabelEncoder\n",
    "import pickle"
   ]
  },
  {
   "cell_type": "markdown",
   "id": "8314f60e",
   "metadata": {},
   "source": [
    "Формат даты не удобен для обучения, поэтому необходимо преобразовать. Оптимальным вариантом является номер недели и день недели. Год не несет никакой информации, так как данные даны за один год, а номер недели поможет лучше отслеживать сезонность по неделям и месяцам"
   ]
  },
  {
   "cell_type": "code",
   "execution_count": 7,
   "id": "d8649062",
   "metadata": {},
   "outputs": [],
   "source": [
    "# создание атрибута номер недели и день недели\n",
    "df['Week'] = df['Date'].apply(lambda x: x.isocalendar()[1])\n",
    "df['Week day'] = df['Date'].apply(lambda x: x.isocalendar()[1])"
   ]
  },
  {
   "cell_type": "code",
   "execution_count": 8,
   "id": "b563c2e9",
   "metadata": {},
   "outputs": [],
   "source": [
    "# создание атрибута праздник\n",
    "ru_holidays = holidays.RU()\n",
    "df['holiday'] = df['Date'].apply(lambda x: 1 if x in ru_holidays else 0)"
   ]
  },
  {
   "cell_type": "code",
   "execution_count": 9,
   "id": "36653435",
   "metadata": {},
   "outputs": [],
   "source": [
    "# создание атрибута выходной\n",
    "df['weekend'] = df['Date'].apply(lambda x: 1 if x.weekday() > 4 or x in ru_holidays else 0)"
   ]
  },
  {
   "cell_type": "code",
   "execution_count": 10,
   "id": "5f8e9148",
   "metadata": {},
   "outputs": [],
   "source": [
    "# удаление атрибута id\n",
    "df = df.drop('Break flight ID', axis=1)"
   ]
  },
  {
   "cell_type": "code",
   "execution_count": 11,
   "id": "2d597de7",
   "metadata": {},
   "outputs": [],
   "source": [
    "# удаление атрибута дата\n",
    "df = df.drop('Date', axis=1)"
   ]
  },
  {
   "cell_type": "code",
   "execution_count": 12,
   "id": "f863ace2",
   "metadata": {},
   "outputs": [],
   "source": [
    "# функция для преобразования времени\n",
    "def time_processing(time_str):\n",
    "    return int(time_str.split(':')[2]) + int(time_str.split(':')[1])*60 + int(time_str.split(':')[0])*3600"
   ]
  },
  {
   "cell_type": "code",
   "execution_count": 13,
   "id": "20b828ae",
   "metadata": {},
   "outputs": [],
   "source": [
    "# преобразование времени в секунды\n",
    "df['Break flight start'] = df['Break flight start'].apply(time_processing)\n",
    "df['Break flight end'] = df['Break flight end'].apply(time_processing)\n",
    "df['Programme flight start'] = df['Programme flight start'].apply(time_processing)\n",
    "df['Programme flight end'] = df['Programme flight end'].apply(time_processing)"
   ]
  },
  {
   "cell_type": "code",
   "execution_count": 14,
   "id": "ce770d11",
   "metadata": {},
   "outputs": [],
   "source": [
    "# создание атрибута длительность рекламы\n",
    "df['Break duration'] = df['Break flight end'] - df['Break flight start']"
   ]
  },
  {
   "cell_type": "code",
   "execution_count": 15,
   "id": "aa9c0f95",
   "metadata": {},
   "outputs": [],
   "source": [
    "# создание атрибута длительность программы\n",
    "df['Programme duration'] = df['Programme flight end'] - df['Programme flight start']"
   ]
  },
  {
   "cell_type": "code",
   "execution_count": 16,
   "id": "c5403001",
   "metadata": {},
   "outputs": [],
   "source": [
    "# преобразование целевого атрибута в число\n",
    "df['TVR Index'] = df['TVR Index'].apply(lambda x: float(x.replace(',', '.')))"
   ]
  },
  {
   "cell_type": "code",
   "execution_count": 17,
   "id": "718725c4",
   "metadata": {},
   "outputs": [],
   "source": [
    "df = df[df['TVR Index'] != 0]"
   ]
  },
  {
   "cell_type": "code",
   "execution_count": 18,
   "id": "e82d3b78",
   "metadata": {},
   "outputs": [],
   "source": [
    "# создание атрибута среднего просмотра для каждой программы\n",
    "groups = df.groupby(by='Programme')['TVR Index'].mean()\n",
    "means_dict = {}\n",
    "for group in groups.index.tolist():\n",
    "    means_dict[group] = groups[group]\n",
    "\n",
    "with open('./means_dict.pkl', 'wb') as f:\n",
    "    pickle.dump(means_dict, f)"
   ]
  },
  {
   "cell_type": "code",
   "execution_count": 19,
   "id": "1697368e",
   "metadata": {},
   "outputs": [],
   "source": [
    "df['Programme mean'] = df['Programme'].apply(lambda x: means_dict[x])"
   ]
  },
  {
   "cell_type": "code",
   "execution_count": 20,
   "id": "ec317853",
   "metadata": {},
   "outputs": [],
   "source": [
    "# создание словаря для кодировки всех строковых атрибутов\n",
    "encoder = {}\n",
    "\n",
    "for column in df.select_dtypes(include=\"object\").columns:\n",
    "    le = LabelEncoder()\n",
    "    df[column] = le.fit_transform(df[column].values)\n",
    "    attr_dict = {}\n",
    "    for i, val in enumerate(le.classes_.tolist()):\n",
    "        attr_dict[val] = i\n",
    "    encoder[column] = attr_dict"
   ]
  },
  {
   "cell_type": "code",
   "execution_count": 21,
   "id": "476283f3",
   "metadata": {
    "scrolled": true
   },
   "outputs": [],
   "source": [
    "# сохранение словаря\n",
    "with open('./encoder.pkl', 'wb') as f:\n",
    "    pickle.dump(encoder, f)"
   ]
  },
  {
   "cell_type": "code",
   "execution_count": 22,
   "id": "50ae0be2",
   "metadata": {},
   "outputs": [
    {
     "data": {
      "text/html": [
       "<div>\n",
       "<style scoped>\n",
       "    .dataframe tbody tr th:only-of-type {\n",
       "        vertical-align: middle;\n",
       "    }\n",
       "\n",
       "    .dataframe tbody tr th {\n",
       "        vertical-align: top;\n",
       "    }\n",
       "\n",
       "    .dataframe thead th {\n",
       "        text-align: right;\n",
       "    }\n",
       "</style>\n",
       "<table border=\"1\" class=\"dataframe\">\n",
       "  <thead>\n",
       "    <tr style=\"text-align: right;\">\n",
       "      <th></th>\n",
       "      <th>TVR Index</th>\n",
       "      <th>Break flight start</th>\n",
       "      <th>Break flight end</th>\n",
       "      <th>Break content</th>\n",
       "      <th>Break distribution</th>\n",
       "      <th>Programme</th>\n",
       "      <th>Programme flight start</th>\n",
       "      <th>Programme flight end</th>\n",
       "      <th>Programme category</th>\n",
       "      <th>Programme genre</th>\n",
       "      <th>Week</th>\n",
       "      <th>Week day</th>\n",
       "      <th>holiday</th>\n",
       "      <th>weekend</th>\n",
       "      <th>Break duration</th>\n",
       "      <th>Programme duration</th>\n",
       "      <th>Programme mean</th>\n",
       "    </tr>\n",
       "  </thead>\n",
       "  <tbody>\n",
       "    <tr>\n",
       "      <th>0</th>\n",
       "      <td>0.614693</td>\n",
       "      <td>29853</td>\n",
       "      <td>30100</td>\n",
       "      <td>1</td>\n",
       "      <td>1</td>\n",
       "      <td>17</td>\n",
       "      <td>28813</td>\n",
       "      <td>36014</td>\n",
       "      <td>7</td>\n",
       "      <td>1</td>\n",
       "      <td>1</td>\n",
       "      <td>1</td>\n",
       "      <td>1</td>\n",
       "      <td>1</td>\n",
       "      <td>247</td>\n",
       "      <td>7201</td>\n",
       "      <td>1.112456</td>\n",
       "    </tr>\n",
       "    <tr>\n",
       "      <th>1</th>\n",
       "      <td>0.869565</td>\n",
       "      <td>30885</td>\n",
       "      <td>31132</td>\n",
       "      <td>1</td>\n",
       "      <td>1</td>\n",
       "      <td>17</td>\n",
       "      <td>28813</td>\n",
       "      <td>36014</td>\n",
       "      <td>7</td>\n",
       "      <td>1</td>\n",
       "      <td>1</td>\n",
       "      <td>1</td>\n",
       "      <td>1</td>\n",
       "      <td>1</td>\n",
       "      <td>247</td>\n",
       "      <td>7201</td>\n",
       "      <td>1.112456</td>\n",
       "    </tr>\n",
       "    <tr>\n",
       "      <th>2</th>\n",
       "      <td>0.989505</td>\n",
       "      <td>31939</td>\n",
       "      <td>32183</td>\n",
       "      <td>1</td>\n",
       "      <td>1</td>\n",
       "      <td>17</td>\n",
       "      <td>28813</td>\n",
       "      <td>36014</td>\n",
       "      <td>7</td>\n",
       "      <td>1</td>\n",
       "      <td>1</td>\n",
       "      <td>1</td>\n",
       "      <td>1</td>\n",
       "      <td>1</td>\n",
       "      <td>244</td>\n",
       "      <td>7201</td>\n",
       "      <td>1.112456</td>\n",
       "    </tr>\n",
       "    <tr>\n",
       "      <th>3</th>\n",
       "      <td>0.884558</td>\n",
       "      <td>32191</td>\n",
       "      <td>32248</td>\n",
       "      <td>0</td>\n",
       "      <td>1</td>\n",
       "      <td>17</td>\n",
       "      <td>28813</td>\n",
       "      <td>36014</td>\n",
       "      <td>7</td>\n",
       "      <td>1</td>\n",
       "      <td>1</td>\n",
       "      <td>1</td>\n",
       "      <td>1</td>\n",
       "      <td>1</td>\n",
       "      <td>57</td>\n",
       "      <td>7201</td>\n",
       "      <td>1.112456</td>\n",
       "    </tr>\n",
       "    <tr>\n",
       "      <th>4</th>\n",
       "      <td>0.839580</td>\n",
       "      <td>33124</td>\n",
       "      <td>33373</td>\n",
       "      <td>1</td>\n",
       "      <td>1</td>\n",
       "      <td>17</td>\n",
       "      <td>28813</td>\n",
       "      <td>36014</td>\n",
       "      <td>7</td>\n",
       "      <td>1</td>\n",
       "      <td>1</td>\n",
       "      <td>1</td>\n",
       "      <td>1</td>\n",
       "      <td>1</td>\n",
       "      <td>249</td>\n",
       "      <td>7201</td>\n",
       "      <td>1.112456</td>\n",
       "    </tr>\n",
       "    <tr>\n",
       "      <th>...</th>\n",
       "      <td>...</td>\n",
       "      <td>...</td>\n",
       "      <td>...</td>\n",
       "      <td>...</td>\n",
       "      <td>...</td>\n",
       "      <td>...</td>\n",
       "      <td>...</td>\n",
       "      <td>...</td>\n",
       "      <td>...</td>\n",
       "      <td>...</td>\n",
       "      <td>...</td>\n",
       "      <td>...</td>\n",
       "      <td>...</td>\n",
       "      <td>...</td>\n",
       "      <td>...</td>\n",
       "      <td>...</td>\n",
       "      <td>...</td>\n",
       "    </tr>\n",
       "    <tr>\n",
       "      <th>30677</th>\n",
       "      <td>0.029985</td>\n",
       "      <td>99820</td>\n",
       "      <td>99847</td>\n",
       "      <td>0</td>\n",
       "      <td>1</td>\n",
       "      <td>11</td>\n",
       "      <td>98869</td>\n",
       "      <td>101548</td>\n",
       "      <td>2</td>\n",
       "      <td>1</td>\n",
       "      <td>44</td>\n",
       "      <td>44</td>\n",
       "      <td>0</td>\n",
       "      <td>0</td>\n",
       "      <td>27</td>\n",
       "      <td>2679</td>\n",
       "      <td>0.148949</td>\n",
       "    </tr>\n",
       "    <tr>\n",
       "      <th>30678</th>\n",
       "      <td>0.029985</td>\n",
       "      <td>99847</td>\n",
       "      <td>100093</td>\n",
       "      <td>1</td>\n",
       "      <td>1</td>\n",
       "      <td>11</td>\n",
       "      <td>98869</td>\n",
       "      <td>101548</td>\n",
       "      <td>2</td>\n",
       "      <td>1</td>\n",
       "      <td>44</td>\n",
       "      <td>44</td>\n",
       "      <td>0</td>\n",
       "      <td>0</td>\n",
       "      <td>246</td>\n",
       "      <td>2679</td>\n",
       "      <td>0.148949</td>\n",
       "    </tr>\n",
       "    <tr>\n",
       "      <th>30679</th>\n",
       "      <td>0.014993</td>\n",
       "      <td>100930</td>\n",
       "      <td>101176</td>\n",
       "      <td>1</td>\n",
       "      <td>1</td>\n",
       "      <td>11</td>\n",
       "      <td>98869</td>\n",
       "      <td>101548</td>\n",
       "      <td>2</td>\n",
       "      <td>1</td>\n",
       "      <td>44</td>\n",
       "      <td>44</td>\n",
       "      <td>0</td>\n",
       "      <td>0</td>\n",
       "      <td>246</td>\n",
       "      <td>2679</td>\n",
       "      <td>0.148949</td>\n",
       "    </tr>\n",
       "    <tr>\n",
       "      <th>30680</th>\n",
       "      <td>0.029985</td>\n",
       "      <td>102380</td>\n",
       "      <td>102625</td>\n",
       "      <td>1</td>\n",
       "      <td>1</td>\n",
       "      <td>11</td>\n",
       "      <td>101548</td>\n",
       "      <td>104194</td>\n",
       "      <td>2</td>\n",
       "      <td>1</td>\n",
       "      <td>44</td>\n",
       "      <td>44</td>\n",
       "      <td>0</td>\n",
       "      <td>0</td>\n",
       "      <td>245</td>\n",
       "      <td>2646</td>\n",
       "      <td>0.148949</td>\n",
       "    </tr>\n",
       "    <tr>\n",
       "      <th>30681</th>\n",
       "      <td>0.044978</td>\n",
       "      <td>103269</td>\n",
       "      <td>103514</td>\n",
       "      <td>1</td>\n",
       "      <td>1</td>\n",
       "      <td>11</td>\n",
       "      <td>101548</td>\n",
       "      <td>104194</td>\n",
       "      <td>2</td>\n",
       "      <td>1</td>\n",
       "      <td>44</td>\n",
       "      <td>44</td>\n",
       "      <td>0</td>\n",
       "      <td>0</td>\n",
       "      <td>245</td>\n",
       "      <td>2646</td>\n",
       "      <td>0.148949</td>\n",
       "    </tr>\n",
       "  </tbody>\n",
       "</table>\n",
       "<p>30572 rows × 17 columns</p>\n",
       "</div>"
      ],
      "text/plain": [
       "       TVR Index  Break flight start  Break flight end  Break content  \\\n",
       "0       0.614693               29853             30100              1   \n",
       "1       0.869565               30885             31132              1   \n",
       "2       0.989505               31939             32183              1   \n",
       "3       0.884558               32191             32248              0   \n",
       "4       0.839580               33124             33373              1   \n",
       "...          ...                 ...               ...            ...   \n",
       "30677   0.029985               99820             99847              0   \n",
       "30678   0.029985               99847            100093              1   \n",
       "30679   0.014993              100930            101176              1   \n",
       "30680   0.029985              102380            102625              1   \n",
       "30681   0.044978              103269            103514              1   \n",
       "\n",
       "       Break distribution  Programme  Programme flight start  \\\n",
       "0                       1         17                   28813   \n",
       "1                       1         17                   28813   \n",
       "2                       1         17                   28813   \n",
       "3                       1         17                   28813   \n",
       "4                       1         17                   28813   \n",
       "...                   ...        ...                     ...   \n",
       "30677                   1         11                   98869   \n",
       "30678                   1         11                   98869   \n",
       "30679                   1         11                   98869   \n",
       "30680                   1         11                  101548   \n",
       "30681                   1         11                  101548   \n",
       "\n",
       "       Programme flight end  Programme category  Programme genre  Week  \\\n",
       "0                     36014                   7                1     1   \n",
       "1                     36014                   7                1     1   \n",
       "2                     36014                   7                1     1   \n",
       "3                     36014                   7                1     1   \n",
       "4                     36014                   7                1     1   \n",
       "...                     ...                 ...              ...   ...   \n",
       "30677                101548                   2                1    44   \n",
       "30678                101548                   2                1    44   \n",
       "30679                101548                   2                1    44   \n",
       "30680                104194                   2                1    44   \n",
       "30681                104194                   2                1    44   \n",
       "\n",
       "       Week day  holiday  weekend  Break duration  Programme duration  \\\n",
       "0             1        1        1             247                7201   \n",
       "1             1        1        1             247                7201   \n",
       "2             1        1        1             244                7201   \n",
       "3             1        1        1              57                7201   \n",
       "4             1        1        1             249                7201   \n",
       "...         ...      ...      ...             ...                 ...   \n",
       "30677        44        0        0              27                2679   \n",
       "30678        44        0        0             246                2679   \n",
       "30679        44        0        0             246                2679   \n",
       "30680        44        0        0             245                2646   \n",
       "30681        44        0        0             245                2646   \n",
       "\n",
       "       Programme mean  \n",
       "0            1.112456  \n",
       "1            1.112456  \n",
       "2            1.112456  \n",
       "3            1.112456  \n",
       "4            1.112456  \n",
       "...               ...  \n",
       "30677        0.148949  \n",
       "30678        0.148949  \n",
       "30679        0.148949  \n",
       "30680        0.148949  \n",
       "30681        0.148949  \n",
       "\n",
       "[30572 rows x 17 columns]"
      ]
     },
     "execution_count": 22,
     "metadata": {},
     "output_type": "execute_result"
    }
   ],
   "source": [
    "# вывод обработанных данных\n",
    "df"
   ]
  },
  {
   "cell_type": "markdown",
   "id": "0e3c56d2",
   "metadata": {},
   "source": [
    "## Обучение модели"
   ]
  },
  {
   "cell_type": "code",
   "execution_count": 23,
   "id": "4a1f1c78",
   "metadata": {},
   "outputs": [],
   "source": [
    "from sklearn.model_selection import train_test_split\n",
    "from catboost import CatBoostRegressor\n",
    "from sklearn.ensemble import RandomForestRegressor\n",
    "from sklearn.metrics import mean_absolute_percentage_error, mean_absolute_error, mean_squared_error"
   ]
  },
  {
   "cell_type": "code",
   "execution_count": 24,
   "id": "fddb53e8",
   "metadata": {},
   "outputs": [],
   "source": [
    "X = df.drop('TVR Index', axis=1)\n",
    "y = df['TVR Index']"
   ]
  },
  {
   "cell_type": "code",
   "execution_count": 25,
   "id": "6195818c",
   "metadata": {},
   "outputs": [],
   "source": [
    "X_train, X_test, y_train, y_test = train_test_split(X, y, test_size=0.25, random_state=42, shuffle=True)"
   ]
  },
  {
   "cell_type": "markdown",
   "id": "b1ad40db",
   "metadata": {},
   "source": [
    "### Случайные лес"
   ]
  },
  {
   "cell_type": "code",
   "execution_count": 503,
   "id": "ac39e1eb",
   "metadata": {},
   "outputs": [
    {
     "data": {
      "text/plain": [
       "RandomForestRegressor(n_estimators=1000, n_jobs=-1)"
      ]
     },
     "execution_count": 503,
     "metadata": {},
     "output_type": "execute_result"
    }
   ],
   "source": [
    "forest = RandomForestRegressor(n_jobs=-1, n_estimators=1000)\n",
    "forest.fit(X_train, y_train)"
   ]
  },
  {
   "cell_type": "code",
   "execution_count": 504,
   "id": "f5aa9a75",
   "metadata": {},
   "outputs": [
    {
     "name": "stdout",
     "output_type": "stream",
     "text": [
      "mean_absolute_percentage_error: 0.17477730710087497\n",
      "mean_absolute_error: 0.12458537577814498\n",
      "mean_squared_error: 0.03181492994046916\n"
     ]
    }
   ],
   "source": [
    "predict = forest.predict(X_test)\n",
    "print('mean_absolute_percentage_error:', mean_absolute_percentage_error(y_test, predict))\n",
    "print('mean_absolute_error:', mean_absolute_error(y_test, predict))\n",
    "print('mean_squared_error:', mean_squared_error(y_test, predict))"
   ]
  },
  {
   "cell_type": "markdown",
   "id": "85d6caf1",
   "metadata": {},
   "source": [
    "### Catboost"
   ]
  },
  {
   "cell_type": "code",
   "execution_count": 28,
   "id": "2454e366",
   "metadata": {
    "scrolled": false
   },
   "outputs": [
    {
     "data": {
      "application/vnd.jupyter.widget-view+json": {
       "model_id": "3bc18370c9754e8d908573753541fcfb",
       "version_major": 2,
       "version_minor": 0
      },
      "text/plain": [
       "MetricVisualizer(layout=Layout(align_self='stretch', height='500px'))"
      ]
     },
     "metadata": {},
     "output_type": "display_data"
    },
    {
     "data": {
      "text/plain": [
       "<catboost.core.CatBoostRegressor at 0x284e4f01fa0>"
      ]
     },
     "execution_count": 28,
     "metadata": {},
     "output_type": "execute_result"
    }
   ],
   "source": [
    "cat = CatBoostRegressor(n_estimators=10000, learning_rate=1e-3)\n",
    "cat.fit(X_train, y_train, eval_set=(X_test, y_test), plot=True, verbose=False)"
   ]
  },
  {
   "cell_type": "code",
   "execution_count": 29,
   "id": "c7201610",
   "metadata": {},
   "outputs": [
    {
     "name": "stdout",
     "output_type": "stream",
     "text": [
      "mean_absolute_percentage_error: 0.24838696077801325\n",
      "mean_absolute_error: 0.16138294490593152\n",
      "mean_squared_error: 0.04948349202758078\n"
     ]
    }
   ],
   "source": [
    "predict = cat.predict(X_test)\n",
    "print('mean_absolute_percentage_error:', mean_absolute_percentage_error(y_test, predict))\n",
    "print('mean_absolute_error:', mean_absolute_error(y_test, predict))\n",
    "print('mean_squared_error:', mean_squared_error(y_test, predict))"
   ]
  },
  {
   "cell_type": "markdown",
   "id": "35d07e43",
   "metadata": {},
   "source": [
    "### lightgbm"
   ]
  },
  {
   "cell_type": "code",
   "execution_count": 30,
   "id": "d012d6d5",
   "metadata": {},
   "outputs": [],
   "source": [
    "from lightgbm import LGBMRegressor"
   ]
  },
  {
   "cell_type": "code",
   "execution_count": 31,
   "id": "b2d24399",
   "metadata": {},
   "outputs": [
    {
     "data": {
      "text/html": [
       "<style>#sk-container-id-2 {color: black;background-color: white;}#sk-container-id-2 pre{padding: 0;}#sk-container-id-2 div.sk-toggleable {background-color: white;}#sk-container-id-2 label.sk-toggleable__label {cursor: pointer;display: block;width: 100%;margin-bottom: 0;padding: 0.3em;box-sizing: border-box;text-align: center;}#sk-container-id-2 label.sk-toggleable__label-arrow:before {content: \"▸\";float: left;margin-right: 0.25em;color: #696969;}#sk-container-id-2 label.sk-toggleable__label-arrow:hover:before {color: black;}#sk-container-id-2 div.sk-estimator:hover label.sk-toggleable__label-arrow:before {color: black;}#sk-container-id-2 div.sk-toggleable__content {max-height: 0;max-width: 0;overflow: hidden;text-align: left;background-color: #f0f8ff;}#sk-container-id-2 div.sk-toggleable__content pre {margin: 0.2em;color: black;border-radius: 0.25em;background-color: #f0f8ff;}#sk-container-id-2 input.sk-toggleable__control:checked~div.sk-toggleable__content {max-height: 200px;max-width: 100%;overflow: auto;}#sk-container-id-2 input.sk-toggleable__control:checked~label.sk-toggleable__label-arrow:before {content: \"▾\";}#sk-container-id-2 div.sk-estimator input.sk-toggleable__control:checked~label.sk-toggleable__label {background-color: #d4ebff;}#sk-container-id-2 div.sk-label input.sk-toggleable__control:checked~label.sk-toggleable__label {background-color: #d4ebff;}#sk-container-id-2 input.sk-hidden--visually {border: 0;clip: rect(1px 1px 1px 1px);clip: rect(1px, 1px, 1px, 1px);height: 1px;margin: -1px;overflow: hidden;padding: 0;position: absolute;width: 1px;}#sk-container-id-2 div.sk-estimator {font-family: monospace;background-color: #f0f8ff;border: 1px dotted black;border-radius: 0.25em;box-sizing: border-box;margin-bottom: 0.5em;}#sk-container-id-2 div.sk-estimator:hover {background-color: #d4ebff;}#sk-container-id-2 div.sk-parallel-item::after {content: \"\";width: 100%;border-bottom: 1px solid gray;flex-grow: 1;}#sk-container-id-2 div.sk-label:hover label.sk-toggleable__label {background-color: #d4ebff;}#sk-container-id-2 div.sk-serial::before {content: \"\";position: absolute;border-left: 1px solid gray;box-sizing: border-box;top: 0;bottom: 0;left: 50%;z-index: 0;}#sk-container-id-2 div.sk-serial {display: flex;flex-direction: column;align-items: center;background-color: white;padding-right: 0.2em;padding-left: 0.2em;position: relative;}#sk-container-id-2 div.sk-item {position: relative;z-index: 1;}#sk-container-id-2 div.sk-parallel {display: flex;align-items: stretch;justify-content: center;background-color: white;position: relative;}#sk-container-id-2 div.sk-item::before, #sk-container-id-2 div.sk-parallel-item::before {content: \"\";position: absolute;border-left: 1px solid gray;box-sizing: border-box;top: 0;bottom: 0;left: 50%;z-index: -1;}#sk-container-id-2 div.sk-parallel-item {display: flex;flex-direction: column;z-index: 1;position: relative;background-color: white;}#sk-container-id-2 div.sk-parallel-item:first-child::after {align-self: flex-end;width: 50%;}#sk-container-id-2 div.sk-parallel-item:last-child::after {align-self: flex-start;width: 50%;}#sk-container-id-2 div.sk-parallel-item:only-child::after {width: 0;}#sk-container-id-2 div.sk-dashed-wrapped {border: 1px dashed gray;margin: 0 0.4em 0.5em 0.4em;box-sizing: border-box;padding-bottom: 0.4em;background-color: white;}#sk-container-id-2 div.sk-label label {font-family: monospace;font-weight: bold;display: inline-block;line-height: 1.2em;}#sk-container-id-2 div.sk-label-container {text-align: center;}#sk-container-id-2 div.sk-container {/* jupyter's `normalize.less` sets `[hidden] { display: none; }` but bootstrap.min.css set `[hidden] { display: none !important; }` so we also need the `!important` here to be able to override the default hidden behavior on the sphinx rendered scikit-learn.org. See: https://github.com/scikit-learn/scikit-learn/issues/21755 */display: inline-block !important;position: relative;}#sk-container-id-2 div.sk-text-repr-fallback {display: none;}</style><div id=\"sk-container-id-2\" class=\"sk-top-container\"><div class=\"sk-text-repr-fallback\"><pre>LGBMRegressor(n_estimators=1000, random_state=123)</pre><b>In a Jupyter environment, please rerun this cell to show the HTML representation or trust the notebook. <br />On GitHub, the HTML representation is unable to render, please try loading this page with nbviewer.org.</b></div><div class=\"sk-container\" hidden><div class=\"sk-item\"><div class=\"sk-estimator sk-toggleable\"><input class=\"sk-toggleable__control sk-hidden--visually\" id=\"sk-estimator-id-2\" type=\"checkbox\" checked><label for=\"sk-estimator-id-2\" class=\"sk-toggleable__label sk-toggleable__label-arrow\">LGBMRegressor</label><div class=\"sk-toggleable__content\"><pre>LGBMRegressor(n_estimators=1000, random_state=123)</pre></div></div></div></div></div>"
      ],
      "text/plain": [
       "LGBMRegressor(n_estimators=1000, random_state=123)"
      ]
     },
     "execution_count": 31,
     "metadata": {},
     "output_type": "execute_result"
    }
   ],
   "source": [
    "lgbm = LGBMRegressor(random_state=123, n_estimators=1000)\n",
    "lgbm.fit(X_train, y_train)"
   ]
  },
  {
   "cell_type": "code",
   "execution_count": 32,
   "id": "a0409c79",
   "metadata": {},
   "outputs": [
    {
     "name": "stdout",
     "output_type": "stream",
     "text": [
      "mean_absolute_percentage_error: 0.1782134862235981\n",
      "mean_absolute_error: 0.12290822340090737\n",
      "mean_squared_error: 0.030198784472059464\n"
     ]
    }
   ],
   "source": [
    "predict = lgbm.predict(X_test)\n",
    "print('mean_absolute_percentage_error:', mean_absolute_percentage_error(y_test, predict))\n",
    "print('mean_absolute_error:', mean_absolute_error(y_test, predict))\n",
    "print('mean_squared_error:', mean_squared_error(y_test, predict))"
   ]
  },
  {
   "cell_type": "markdown",
   "id": "322ac3eb",
   "metadata": {},
   "source": [
    "### xgboost"
   ]
  },
  {
   "cell_type": "code",
   "execution_count": 26,
   "id": "341557e7",
   "metadata": {},
   "outputs": [],
   "source": [
    "from xgboost import XGBRegressor"
   ]
  },
  {
   "cell_type": "code",
   "execution_count": 27,
   "id": "9bb7be21",
   "metadata": {},
   "outputs": [
    {
     "data": {
      "text/plain": [
       "XGBRegressor(base_score=None, booster=None, callbacks=None,\n",
       "             colsample_bylevel=None, colsample_bynode=None,\n",
       "             colsample_bytree=None, early_stopping_rounds=None,\n",
       "             enable_categorical=False, eval_metric=None, feature_types=None,\n",
       "             gamma=None, gpu_id=None, grow_policy=None, importance_type=None,\n",
       "             interaction_constraints=None, learning_rate=None, max_bin=None,\n",
       "             max_cat_threshold=None, max_cat_to_onehot=None,\n",
       "             max_delta_step=None, max_depth=None, max_leaves=None,\n",
       "             min_child_weight=None, missing=nan, monotone_constraints=None,\n",
       "             n_estimators=1000, n_jobs=-1, num_parallel_tree=None,\n",
       "             objective='reg:gamma', predictor=None, ...)"
      ]
     },
     "execution_count": 27,
     "metadata": {},
     "output_type": "execute_result"
    }
   ],
   "source": [
    "xgb = XGBRegressor(objective='reg:gamma', n_estimators=1000, seed=12345, n_jobs=-1)\n",
    "xgb.fit(X_train, y_train)"
   ]
  },
  {
   "cell_type": "code",
   "execution_count": 28,
   "id": "90f6b2d4",
   "metadata": {},
   "outputs": [
    {
     "name": "stdout",
     "output_type": "stream",
     "text": [
      "mean_absolute_percentage_error: 0.15131776625107266\n",
      "mean_absolute_error: 0.11519156098348066\n",
      "mean_squared_error: 0.0281075965898261\n"
     ]
    }
   ],
   "source": [
    "predict = xgb.predict(X_test)\n",
    "print('mean_absolute_percentage_error:', mean_absolute_percentage_error(y_test, predict))\n",
    "print('mean_absolute_error:', mean_absolute_error(y_test, predict))\n",
    "print('mean_squared_error:', mean_squared_error(y_test, predict))"
   ]
  },
  {
   "cell_type": "code",
   "execution_count": 29,
   "id": "8ece3b90",
   "metadata": {},
   "outputs": [],
   "source": [
    "with open('./models/xgb.pkl', 'wb') as f:\n",
    "    pickle.dump(xgb, f)"
   ]
  },
  {
   "cell_type": "markdown",
   "id": "844f5681",
   "metadata": {},
   "source": [
    "# Получение предсказаний"
   ]
  },
  {
   "cell_type": "code",
   "execution_count": 30,
   "id": "86832b90",
   "metadata": {},
   "outputs": [],
   "source": [
    "import pandas as pd\n",
    "from io import StringIO\n",
    "import warnings\n",
    "import holidays\n",
    "from sklearn.preprocessing import LabelEncoder\n",
    "import pickle\n",
    "warnings.filterwarnings('ignore')"
   ]
  },
  {
   "cell_type": "code",
   "execution_count": 31,
   "id": "8a060d93",
   "metadata": {},
   "outputs": [],
   "source": [
    "# функция для чтения\n",
    "def read_data(file_path, parse_dates=[]):\n",
    "    with open(file_path, 'r', encoding='utf-8') as file:\n",
    "        data = file.read()\n",
    "\n",
    "    lines = data.split('\\n')\n",
    "    tab_separated_data = StringIO('\\n'.join(lines))\n",
    "\n",
    "    df = pd.read_csv(tab_separated_data, sep='\\t', parse_dates=parse_dates, dayfirst=True)\n",
    "\n",
    "    return df"
   ]
  },
  {
   "cell_type": "code",
   "execution_count": 32,
   "id": "17a7301f",
   "metadata": {},
   "outputs": [],
   "source": [
    "# чтение\n",
    "file_path = './data/test.txt'\n",
    "parse_dates=[0]\n",
    "df = read_data(file_path, parse_dates)\n",
    "df_to_predict = df.copy()"
   ]
  },
  {
   "cell_type": "code",
   "execution_count": 33,
   "id": "78956943",
   "metadata": {},
   "outputs": [
    {
     "name": "stdout",
     "output_type": "stream",
     "text": [
      "<class 'pandas.core.frame.DataFrame'>\n",
      "RangeIndex: 3329 entries, 0 to 3328\n",
      "Data columns (total 12 columns):\n",
      " #   Column                  Non-Null Count  Dtype         \n",
      "---  ------                  --------------  -----         \n",
      " 0   Date                    3329 non-null   datetime64[ns]\n",
      " 1   Break flight ID         3329 non-null   int64         \n",
      " 2   Break flight start      3329 non-null   object        \n",
      " 3   Break flight end        3329 non-null   object        \n",
      " 4   Break content           3329 non-null   object        \n",
      " 5   Break distribution      3329 non-null   object        \n",
      " 6   Programme               3329 non-null   object        \n",
      " 7   Programme flight start  3329 non-null   object        \n",
      " 8   Programme flight end    3329 non-null   object        \n",
      " 9   Programme category      3329 non-null   object        \n",
      " 10  Programme genre         3329 non-null   object        \n",
      " 11  TVR Index Forecast      0 non-null      float64       \n",
      "dtypes: datetime64[ns](1), float64(1), int64(1), object(9)\n",
      "memory usage: 312.2+ KB\n"
     ]
    }
   ],
   "source": [
    "df.info()"
   ]
  },
  {
   "cell_type": "code",
   "execution_count": 34,
   "id": "d3ff885e",
   "metadata": {},
   "outputs": [],
   "source": [
    "# создание атрибута номер недели и день недели\n",
    "df['Week'] = df['Date'].apply(lambda x: x.isocalendar()[1])\n",
    "df['Week day'] = df['Date'].apply(lambda x: x.isocalendar()[1])"
   ]
  },
  {
   "cell_type": "code",
   "execution_count": 35,
   "id": "63767c96",
   "metadata": {},
   "outputs": [],
   "source": [
    "# создание атрибута праздник\n",
    "ru_holidays = holidays.RU()\n",
    "df['holiday'] = df['Date'].apply(lambda x: 1 if x in ru_holidays else 0)"
   ]
  },
  {
   "cell_type": "code",
   "execution_count": 36,
   "id": "38b76296",
   "metadata": {},
   "outputs": [],
   "source": [
    "# создание атрибута выходной\n",
    "df['weekend'] = df['Date'].apply(lambda x: 1 if x.weekday() > 4 or x in ru_holidays else 0)"
   ]
  },
  {
   "cell_type": "code",
   "execution_count": 37,
   "id": "a9b90383",
   "metadata": {},
   "outputs": [],
   "source": [
    "# удаление атрибута id\n",
    "df = df.drop('Break flight ID', axis=1)"
   ]
  },
  {
   "cell_type": "code",
   "execution_count": 38,
   "id": "39aa89a0",
   "metadata": {},
   "outputs": [],
   "source": [
    "# удаление атрибута дата\n",
    "df = df.drop('Date', axis=1)"
   ]
  },
  {
   "cell_type": "code",
   "execution_count": 39,
   "id": "6be3ff6a",
   "metadata": {},
   "outputs": [],
   "source": [
    "# функция для преобразования времени\n",
    "def time_processing(time_str):\n",
    "    return int(time_str.split(':')[2]) + int(time_str.split(':')[1])*60 + int(time_str.split(':')[0])*3600"
   ]
  },
  {
   "cell_type": "code",
   "execution_count": 40,
   "id": "d4a313be",
   "metadata": {},
   "outputs": [],
   "source": [
    "# преобразование времени в секунды\n",
    "df['Break flight start'] = df['Break flight start'].apply(time_processing)\n",
    "df['Break flight end'] = df['Break flight end'].apply(time_processing)\n",
    "df['Programme flight start'] = df['Programme flight start'].apply(time_processing)\n",
    "df['Programme flight end'] = df['Programme flight end'].apply(time_processing)"
   ]
  },
  {
   "cell_type": "code",
   "execution_count": 41,
   "id": "4cf282a6",
   "metadata": {},
   "outputs": [],
   "source": [
    "# создание атрибута длительность рекламы\n",
    "df['Break duration'] = df['Break flight end'] - df['Break flight start']"
   ]
  },
  {
   "cell_type": "code",
   "execution_count": 42,
   "id": "e1c72b1a",
   "metadata": {},
   "outputs": [],
   "source": [
    "# создание атрибута длительность программы\n",
    "df['Programme duration'] = df['Programme flight end'] - df['Programme flight start']"
   ]
  },
  {
   "cell_type": "code",
   "execution_count": 43,
   "id": "7b232f68",
   "metadata": {},
   "outputs": [],
   "source": [
    "means_dict = pd.read_pickle('./means_dict.pkl')\n",
    "df['Programme mean'] = df['Programme'].apply(lambda x: means_dict[x])"
   ]
  },
  {
   "cell_type": "code",
   "execution_count": 44,
   "id": "ebac4eef",
   "metadata": {},
   "outputs": [],
   "source": [
    "encoder = pd.read_pickle('./encoder.pkl')"
   ]
  },
  {
   "cell_type": "code",
   "execution_count": 45,
   "id": "7b221502",
   "metadata": {},
   "outputs": [],
   "source": [
    "for column in df.select_dtypes(include='object'):\n",
    "    df[column] = df[column].apply(lambda x: encoder[column][x])"
   ]
  },
  {
   "cell_type": "code",
   "execution_count": 46,
   "id": "bceb4fb3",
   "metadata": {},
   "outputs": [],
   "source": [
    "df = df.drop('TVR Index Forecast', axis=1)"
   ]
  },
  {
   "cell_type": "code",
   "execution_count": 47,
   "id": "3c46c4de",
   "metadata": {},
   "outputs": [],
   "source": [
    "xgb = pd.read_pickle('./models/xgb.pkl')"
   ]
  },
  {
   "cell_type": "code",
   "execution_count": 48,
   "id": "a062f313",
   "metadata": {},
   "outputs": [],
   "source": [
    "df_to_predict['TVR Index Forecast'] = xgb.predict(df)"
   ]
  },
  {
   "cell_type": "code",
   "execution_count": 49,
   "id": "7c4b4890",
   "metadata": {},
   "outputs": [],
   "source": [
    "df_to_predict.to_excel('./data/predict.xlsx', index=False)"
   ]
  },
  {
   "cell_type": "markdown",
   "id": "3dcffafd",
   "metadata": {},
   "source": [
    "# Атрибуты, используемые для обучения"
   ]
  },
  {
   "cell_type": "markdown",
   "id": "ab612a63",
   "metadata": {},
   "source": [
    "### Для предсказаниия и обучения были использованы 16 атрибутов\n",
    "\n",
    "### Атрибуты из исходных данных:\n",
    "* Break flight start - Время в секундах, во сколько начался рекламный блок\n",
    "* Break flight end - Время в секундах, во сколько закончился рекламный блок\n",
    "* Break content - Содержание блока\n",
    "* Break distribution - Распространение блока\n",
    "* Programme - Название программы\n",
    "* Programme flight start - Время в секундах, во сколько началась программа\n",
    "* Programme flight end - Время в секундах, во сколько закончилась программа\n",
    "* Programme category - Категория программы\n",
    "* Programme genre - Жанр программы\n",
    "\n",
    "### Созданные атрибуты:\n",
    "* Week - Номер недели\n",
    "* Week day - День недели\n",
    "* holiday - Является ли атрибут праздником\n",
    "* weekend - Является ли атрибут выходным днем\n",
    "* Break duration - Длительность рекламы в секундах\n",
    "* Programme duration - Длительность прогаммы в секундах\n",
    "* Programme mean - Среднее значение целевой переменной для программы"
   ]
  },
  {
   "cell_type": "markdown",
   "id": "2fea2358",
   "metadata": {},
   "source": [
    "# Алгоритмы обучения"
   ]
  },
  {
   "cell_type": "markdown",
   "id": "0333ff88",
   "metadata": {},
   "source": [
    "Основные алгоритмы:\n",
    "\n",
    "* Случайный лес\n",
    "\n",
    "* CatBoost. Алгоритм на основе градиентного бустинга\n",
    "\n",
    "* Lightgbm. Алгоритм на основе градиентного бустинга\n",
    "\n",
    "* XGBoost. Алгоритм на основе градиентного бустинга"
   ]
  },
  {
   "cell_type": "markdown",
   "id": "b9d9811f",
   "metadata": {},
   "source": [
    "# Качество"
   ]
  },
  {
   "cell_type": "markdown",
   "id": "18d4f7f2",
   "metadata": {},
   "source": [
    "Лучше всех на обучении и тесте показали себя три алгоритма: \n",
    "* Lightgbm (MAPE = 0.178)\n",
    "* Случайный лес (MAPE = 0.176)\n",
    "* XGBoost (MAPE = 0.151)"
   ]
  },
  {
   "cell_type": "code",
   "execution_count": 52,
   "id": "101f3358",
   "metadata": {},
   "outputs": [
    {
     "data": {
      "application/vnd.plotly.v1+json": {
       "config": {
        "plotlyServerURL": "https://plot.ly"
       },
       "data": [
        {
         "alignmentgroup": "True",
         "hovertemplate": "x=%{x}<br>y=%{y}<extra></extra>",
         "legendgroup": "",
         "marker": {
          "color": "#636efa",
          "pattern": {
           "shape": ""
          }
         },
         "name": "",
         "offsetgroup": "",
         "orientation": "v",
         "showlegend": false,
         "textposition": "auto",
         "type": "bar",
         "x": [
          "Random Forest",
          "Light GBM",
          "XGBoost",
          "CatBoost"
         ],
         "xaxis": "x",
         "y": [
          0.174,
          0.178,
          0.151,
          0.248
         ],
         "yaxis": "y"
        }
       ],
       "layout": {
        "barmode": "relative",
        "legend": {
         "tracegroupgap": 0
        },
        "template": {
         "data": {
          "bar": [
           {
            "error_x": {
             "color": "#2a3f5f"
            },
            "error_y": {
             "color": "#2a3f5f"
            },
            "marker": {
             "line": {
              "color": "#E5ECF6",
              "width": 0.5
             },
             "pattern": {
              "fillmode": "overlay",
              "size": 10,
              "solidity": 0.2
             }
            },
            "type": "bar"
           }
          ],
          "barpolar": [
           {
            "marker": {
             "line": {
              "color": "#E5ECF6",
              "width": 0.5
             },
             "pattern": {
              "fillmode": "overlay",
              "size": 10,
              "solidity": 0.2
             }
            },
            "type": "barpolar"
           }
          ],
          "carpet": [
           {
            "aaxis": {
             "endlinecolor": "#2a3f5f",
             "gridcolor": "white",
             "linecolor": "white",
             "minorgridcolor": "white",
             "startlinecolor": "#2a3f5f"
            },
            "baxis": {
             "endlinecolor": "#2a3f5f",
             "gridcolor": "white",
             "linecolor": "white",
             "minorgridcolor": "white",
             "startlinecolor": "#2a3f5f"
            },
            "type": "carpet"
           }
          ],
          "choropleth": [
           {
            "colorbar": {
             "outlinewidth": 0,
             "ticks": ""
            },
            "type": "choropleth"
           }
          ],
          "contour": [
           {
            "colorbar": {
             "outlinewidth": 0,
             "ticks": ""
            },
            "colorscale": [
             [
              0,
              "#0d0887"
             ],
             [
              0.1111111111111111,
              "#46039f"
             ],
             [
              0.2222222222222222,
              "#7201a8"
             ],
             [
              0.3333333333333333,
              "#9c179e"
             ],
             [
              0.4444444444444444,
              "#bd3786"
             ],
             [
              0.5555555555555556,
              "#d8576b"
             ],
             [
              0.6666666666666666,
              "#ed7953"
             ],
             [
              0.7777777777777778,
              "#fb9f3a"
             ],
             [
              0.8888888888888888,
              "#fdca26"
             ],
             [
              1,
              "#f0f921"
             ]
            ],
            "type": "contour"
           }
          ],
          "contourcarpet": [
           {
            "colorbar": {
             "outlinewidth": 0,
             "ticks": ""
            },
            "type": "contourcarpet"
           }
          ],
          "heatmap": [
           {
            "colorbar": {
             "outlinewidth": 0,
             "ticks": ""
            },
            "colorscale": [
             [
              0,
              "#0d0887"
             ],
             [
              0.1111111111111111,
              "#46039f"
             ],
             [
              0.2222222222222222,
              "#7201a8"
             ],
             [
              0.3333333333333333,
              "#9c179e"
             ],
             [
              0.4444444444444444,
              "#bd3786"
             ],
             [
              0.5555555555555556,
              "#d8576b"
             ],
             [
              0.6666666666666666,
              "#ed7953"
             ],
             [
              0.7777777777777778,
              "#fb9f3a"
             ],
             [
              0.8888888888888888,
              "#fdca26"
             ],
             [
              1,
              "#f0f921"
             ]
            ],
            "type": "heatmap"
           }
          ],
          "heatmapgl": [
           {
            "colorbar": {
             "outlinewidth": 0,
             "ticks": ""
            },
            "colorscale": [
             [
              0,
              "#0d0887"
             ],
             [
              0.1111111111111111,
              "#46039f"
             ],
             [
              0.2222222222222222,
              "#7201a8"
             ],
             [
              0.3333333333333333,
              "#9c179e"
             ],
             [
              0.4444444444444444,
              "#bd3786"
             ],
             [
              0.5555555555555556,
              "#d8576b"
             ],
             [
              0.6666666666666666,
              "#ed7953"
             ],
             [
              0.7777777777777778,
              "#fb9f3a"
             ],
             [
              0.8888888888888888,
              "#fdca26"
             ],
             [
              1,
              "#f0f921"
             ]
            ],
            "type": "heatmapgl"
           }
          ],
          "histogram": [
           {
            "marker": {
             "pattern": {
              "fillmode": "overlay",
              "size": 10,
              "solidity": 0.2
             }
            },
            "type": "histogram"
           }
          ],
          "histogram2d": [
           {
            "colorbar": {
             "outlinewidth": 0,
             "ticks": ""
            },
            "colorscale": [
             [
              0,
              "#0d0887"
             ],
             [
              0.1111111111111111,
              "#46039f"
             ],
             [
              0.2222222222222222,
              "#7201a8"
             ],
             [
              0.3333333333333333,
              "#9c179e"
             ],
             [
              0.4444444444444444,
              "#bd3786"
             ],
             [
              0.5555555555555556,
              "#d8576b"
             ],
             [
              0.6666666666666666,
              "#ed7953"
             ],
             [
              0.7777777777777778,
              "#fb9f3a"
             ],
             [
              0.8888888888888888,
              "#fdca26"
             ],
             [
              1,
              "#f0f921"
             ]
            ],
            "type": "histogram2d"
           }
          ],
          "histogram2dcontour": [
           {
            "colorbar": {
             "outlinewidth": 0,
             "ticks": ""
            },
            "colorscale": [
             [
              0,
              "#0d0887"
             ],
             [
              0.1111111111111111,
              "#46039f"
             ],
             [
              0.2222222222222222,
              "#7201a8"
             ],
             [
              0.3333333333333333,
              "#9c179e"
             ],
             [
              0.4444444444444444,
              "#bd3786"
             ],
             [
              0.5555555555555556,
              "#d8576b"
             ],
             [
              0.6666666666666666,
              "#ed7953"
             ],
             [
              0.7777777777777778,
              "#fb9f3a"
             ],
             [
              0.8888888888888888,
              "#fdca26"
             ],
             [
              1,
              "#f0f921"
             ]
            ],
            "type": "histogram2dcontour"
           }
          ],
          "mesh3d": [
           {
            "colorbar": {
             "outlinewidth": 0,
             "ticks": ""
            },
            "type": "mesh3d"
           }
          ],
          "parcoords": [
           {
            "line": {
             "colorbar": {
              "outlinewidth": 0,
              "ticks": ""
             }
            },
            "type": "parcoords"
           }
          ],
          "pie": [
           {
            "automargin": true,
            "type": "pie"
           }
          ],
          "scatter": [
           {
            "marker": {
             "colorbar": {
              "outlinewidth": 0,
              "ticks": ""
             }
            },
            "type": "scatter"
           }
          ],
          "scatter3d": [
           {
            "line": {
             "colorbar": {
              "outlinewidth": 0,
              "ticks": ""
             }
            },
            "marker": {
             "colorbar": {
              "outlinewidth": 0,
              "ticks": ""
             }
            },
            "type": "scatter3d"
           }
          ],
          "scattercarpet": [
           {
            "marker": {
             "colorbar": {
              "outlinewidth": 0,
              "ticks": ""
             }
            },
            "type": "scattercarpet"
           }
          ],
          "scattergeo": [
           {
            "marker": {
             "colorbar": {
              "outlinewidth": 0,
              "ticks": ""
             }
            },
            "type": "scattergeo"
           }
          ],
          "scattergl": [
           {
            "marker": {
             "colorbar": {
              "outlinewidth": 0,
              "ticks": ""
             }
            },
            "type": "scattergl"
           }
          ],
          "scattermapbox": [
           {
            "marker": {
             "colorbar": {
              "outlinewidth": 0,
              "ticks": ""
             }
            },
            "type": "scattermapbox"
           }
          ],
          "scatterpolar": [
           {
            "marker": {
             "colorbar": {
              "outlinewidth": 0,
              "ticks": ""
             }
            },
            "type": "scatterpolar"
           }
          ],
          "scatterpolargl": [
           {
            "marker": {
             "colorbar": {
              "outlinewidth": 0,
              "ticks": ""
             }
            },
            "type": "scatterpolargl"
           }
          ],
          "scatterternary": [
           {
            "marker": {
             "colorbar": {
              "outlinewidth": 0,
              "ticks": ""
             }
            },
            "type": "scatterternary"
           }
          ],
          "surface": [
           {
            "colorbar": {
             "outlinewidth": 0,
             "ticks": ""
            },
            "colorscale": [
             [
              0,
              "#0d0887"
             ],
             [
              0.1111111111111111,
              "#46039f"
             ],
             [
              0.2222222222222222,
              "#7201a8"
             ],
             [
              0.3333333333333333,
              "#9c179e"
             ],
             [
              0.4444444444444444,
              "#bd3786"
             ],
             [
              0.5555555555555556,
              "#d8576b"
             ],
             [
              0.6666666666666666,
              "#ed7953"
             ],
             [
              0.7777777777777778,
              "#fb9f3a"
             ],
             [
              0.8888888888888888,
              "#fdca26"
             ],
             [
              1,
              "#f0f921"
             ]
            ],
            "type": "surface"
           }
          ],
          "table": [
           {
            "cells": {
             "fill": {
              "color": "#EBF0F8"
             },
             "line": {
              "color": "white"
             }
            },
            "header": {
             "fill": {
              "color": "#C8D4E3"
             },
             "line": {
              "color": "white"
             }
            },
            "type": "table"
           }
          ]
         },
         "layout": {
          "annotationdefaults": {
           "arrowcolor": "#2a3f5f",
           "arrowhead": 0,
           "arrowwidth": 1
          },
          "autotypenumbers": "strict",
          "coloraxis": {
           "colorbar": {
            "outlinewidth": 0,
            "ticks": ""
           }
          },
          "colorscale": {
           "diverging": [
            [
             0,
             "#8e0152"
            ],
            [
             0.1,
             "#c51b7d"
            ],
            [
             0.2,
             "#de77ae"
            ],
            [
             0.3,
             "#f1b6da"
            ],
            [
             0.4,
             "#fde0ef"
            ],
            [
             0.5,
             "#f7f7f7"
            ],
            [
             0.6,
             "#e6f5d0"
            ],
            [
             0.7,
             "#b8e186"
            ],
            [
             0.8,
             "#7fbc41"
            ],
            [
             0.9,
             "#4d9221"
            ],
            [
             1,
             "#276419"
            ]
           ],
           "sequential": [
            [
             0,
             "#0d0887"
            ],
            [
             0.1111111111111111,
             "#46039f"
            ],
            [
             0.2222222222222222,
             "#7201a8"
            ],
            [
             0.3333333333333333,
             "#9c179e"
            ],
            [
             0.4444444444444444,
             "#bd3786"
            ],
            [
             0.5555555555555556,
             "#d8576b"
            ],
            [
             0.6666666666666666,
             "#ed7953"
            ],
            [
             0.7777777777777778,
             "#fb9f3a"
            ],
            [
             0.8888888888888888,
             "#fdca26"
            ],
            [
             1,
             "#f0f921"
            ]
           ],
           "sequentialminus": [
            [
             0,
             "#0d0887"
            ],
            [
             0.1111111111111111,
             "#46039f"
            ],
            [
             0.2222222222222222,
             "#7201a8"
            ],
            [
             0.3333333333333333,
             "#9c179e"
            ],
            [
             0.4444444444444444,
             "#bd3786"
            ],
            [
             0.5555555555555556,
             "#d8576b"
            ],
            [
             0.6666666666666666,
             "#ed7953"
            ],
            [
             0.7777777777777778,
             "#fb9f3a"
            ],
            [
             0.8888888888888888,
             "#fdca26"
            ],
            [
             1,
             "#f0f921"
            ]
           ]
          },
          "colorway": [
           "#636efa",
           "#EF553B",
           "#00cc96",
           "#ab63fa",
           "#FFA15A",
           "#19d3f3",
           "#FF6692",
           "#B6E880",
           "#FF97FF",
           "#FECB52"
          ],
          "font": {
           "color": "#2a3f5f"
          },
          "geo": {
           "bgcolor": "white",
           "lakecolor": "white",
           "landcolor": "#E5ECF6",
           "showlakes": true,
           "showland": true,
           "subunitcolor": "white"
          },
          "hoverlabel": {
           "align": "left"
          },
          "hovermode": "closest",
          "mapbox": {
           "style": "light"
          },
          "paper_bgcolor": "white",
          "plot_bgcolor": "#E5ECF6",
          "polar": {
           "angularaxis": {
            "gridcolor": "white",
            "linecolor": "white",
            "ticks": ""
           },
           "bgcolor": "#E5ECF6",
           "radialaxis": {
            "gridcolor": "white",
            "linecolor": "white",
            "ticks": ""
           }
          },
          "scene": {
           "xaxis": {
            "backgroundcolor": "#E5ECF6",
            "gridcolor": "white",
            "gridwidth": 2,
            "linecolor": "white",
            "showbackground": true,
            "ticks": "",
            "zerolinecolor": "white"
           },
           "yaxis": {
            "backgroundcolor": "#E5ECF6",
            "gridcolor": "white",
            "gridwidth": 2,
            "linecolor": "white",
            "showbackground": true,
            "ticks": "",
            "zerolinecolor": "white"
           },
           "zaxis": {
            "backgroundcolor": "#E5ECF6",
            "gridcolor": "white",
            "gridwidth": 2,
            "linecolor": "white",
            "showbackground": true,
            "ticks": "",
            "zerolinecolor": "white"
           }
          },
          "shapedefaults": {
           "line": {
            "color": "#2a3f5f"
           }
          },
          "ternary": {
           "aaxis": {
            "gridcolor": "white",
            "linecolor": "white",
            "ticks": ""
           },
           "baxis": {
            "gridcolor": "white",
            "linecolor": "white",
            "ticks": ""
           },
           "bgcolor": "#E5ECF6",
           "caxis": {
            "gridcolor": "white",
            "linecolor": "white",
            "ticks": ""
           }
          },
          "title": {
           "x": 0.05
          },
          "xaxis": {
           "automargin": true,
           "gridcolor": "white",
           "linecolor": "white",
           "ticks": "",
           "title": {
            "standoff": 15
           },
           "zerolinecolor": "white",
           "zerolinewidth": 2
          },
          "yaxis": {
           "automargin": true,
           "gridcolor": "white",
           "linecolor": "white",
           "ticks": "",
           "title": {
            "standoff": 15
           },
           "zerolinecolor": "white",
           "zerolinewidth": 2
          }
         }
        },
        "title": {
         "text": "MAPE loss (lower - better)"
        },
        "xaxis": {
         "anchor": "y",
         "domain": [
          0,
          1
         ],
         "title": {
          "text": "x"
         }
        },
        "yaxis": {
         "anchor": "x",
         "domain": [
          0,
          1
         ],
         "title": {
          "text": "y"
         }
        }
       }
      },
      "text/html": [
       "<div>                            <div id=\"8bf67e8a-f388-4d7a-8d70-a37553308ff6\" class=\"plotly-graph-div\" style=\"height:525px; width:100%;\"></div>            <script type=\"text/javascript\">                require([\"plotly\"], function(Plotly) {                    window.PLOTLYENV=window.PLOTLYENV || {};                                    if (document.getElementById(\"8bf67e8a-f388-4d7a-8d70-a37553308ff6\")) {                    Plotly.newPlot(                        \"8bf67e8a-f388-4d7a-8d70-a37553308ff6\",                        [{\"alignmentgroup\":\"True\",\"hovertemplate\":\"x=%{x}<br>y=%{y}<extra></extra>\",\"legendgroup\":\"\",\"marker\":{\"color\":\"#636efa\",\"pattern\":{\"shape\":\"\"}},\"name\":\"\",\"offsetgroup\":\"\",\"orientation\":\"v\",\"showlegend\":false,\"textposition\":\"auto\",\"x\":[\"Random Forest\",\"Light GBM\",\"XGBoost\",\"CatBoost\"],\"xaxis\":\"x\",\"y\":[0.174,0.178,0.151,0.248],\"yaxis\":\"y\",\"type\":\"bar\"}],                        {\"template\":{\"data\":{\"bar\":[{\"error_x\":{\"color\":\"#2a3f5f\"},\"error_y\":{\"color\":\"#2a3f5f\"},\"marker\":{\"line\":{\"color\":\"#E5ECF6\",\"width\":0.5},\"pattern\":{\"fillmode\":\"overlay\",\"size\":10,\"solidity\":0.2}},\"type\":\"bar\"}],\"barpolar\":[{\"marker\":{\"line\":{\"color\":\"#E5ECF6\",\"width\":0.5},\"pattern\":{\"fillmode\":\"overlay\",\"size\":10,\"solidity\":0.2}},\"type\":\"barpolar\"}],\"carpet\":[{\"aaxis\":{\"endlinecolor\":\"#2a3f5f\",\"gridcolor\":\"white\",\"linecolor\":\"white\",\"minorgridcolor\":\"white\",\"startlinecolor\":\"#2a3f5f\"},\"baxis\":{\"endlinecolor\":\"#2a3f5f\",\"gridcolor\":\"white\",\"linecolor\":\"white\",\"minorgridcolor\":\"white\",\"startlinecolor\":\"#2a3f5f\"},\"type\":\"carpet\"}],\"choropleth\":[{\"colorbar\":{\"outlinewidth\":0,\"ticks\":\"\"},\"type\":\"choropleth\"}],\"contour\":[{\"colorbar\":{\"outlinewidth\":0,\"ticks\":\"\"},\"colorscale\":[[0.0,\"#0d0887\"],[0.1111111111111111,\"#46039f\"],[0.2222222222222222,\"#7201a8\"],[0.3333333333333333,\"#9c179e\"],[0.4444444444444444,\"#bd3786\"],[0.5555555555555556,\"#d8576b\"],[0.6666666666666666,\"#ed7953\"],[0.7777777777777778,\"#fb9f3a\"],[0.8888888888888888,\"#fdca26\"],[1.0,\"#f0f921\"]],\"type\":\"contour\"}],\"contourcarpet\":[{\"colorbar\":{\"outlinewidth\":0,\"ticks\":\"\"},\"type\":\"contourcarpet\"}],\"heatmap\":[{\"colorbar\":{\"outlinewidth\":0,\"ticks\":\"\"},\"colorscale\":[[0.0,\"#0d0887\"],[0.1111111111111111,\"#46039f\"],[0.2222222222222222,\"#7201a8\"],[0.3333333333333333,\"#9c179e\"],[0.4444444444444444,\"#bd3786\"],[0.5555555555555556,\"#d8576b\"],[0.6666666666666666,\"#ed7953\"],[0.7777777777777778,\"#fb9f3a\"],[0.8888888888888888,\"#fdca26\"],[1.0,\"#f0f921\"]],\"type\":\"heatmap\"}],\"heatmapgl\":[{\"colorbar\":{\"outlinewidth\":0,\"ticks\":\"\"},\"colorscale\":[[0.0,\"#0d0887\"],[0.1111111111111111,\"#46039f\"],[0.2222222222222222,\"#7201a8\"],[0.3333333333333333,\"#9c179e\"],[0.4444444444444444,\"#bd3786\"],[0.5555555555555556,\"#d8576b\"],[0.6666666666666666,\"#ed7953\"],[0.7777777777777778,\"#fb9f3a\"],[0.8888888888888888,\"#fdca26\"],[1.0,\"#f0f921\"]],\"type\":\"heatmapgl\"}],\"histogram\":[{\"marker\":{\"pattern\":{\"fillmode\":\"overlay\",\"size\":10,\"solidity\":0.2}},\"type\":\"histogram\"}],\"histogram2d\":[{\"colorbar\":{\"outlinewidth\":0,\"ticks\":\"\"},\"colorscale\":[[0.0,\"#0d0887\"],[0.1111111111111111,\"#46039f\"],[0.2222222222222222,\"#7201a8\"],[0.3333333333333333,\"#9c179e\"],[0.4444444444444444,\"#bd3786\"],[0.5555555555555556,\"#d8576b\"],[0.6666666666666666,\"#ed7953\"],[0.7777777777777778,\"#fb9f3a\"],[0.8888888888888888,\"#fdca26\"],[1.0,\"#f0f921\"]],\"type\":\"histogram2d\"}],\"histogram2dcontour\":[{\"colorbar\":{\"outlinewidth\":0,\"ticks\":\"\"},\"colorscale\":[[0.0,\"#0d0887\"],[0.1111111111111111,\"#46039f\"],[0.2222222222222222,\"#7201a8\"],[0.3333333333333333,\"#9c179e\"],[0.4444444444444444,\"#bd3786\"],[0.5555555555555556,\"#d8576b\"],[0.6666666666666666,\"#ed7953\"],[0.7777777777777778,\"#fb9f3a\"],[0.8888888888888888,\"#fdca26\"],[1.0,\"#f0f921\"]],\"type\":\"histogram2dcontour\"}],\"mesh3d\":[{\"colorbar\":{\"outlinewidth\":0,\"ticks\":\"\"},\"type\":\"mesh3d\"}],\"parcoords\":[{\"line\":{\"colorbar\":{\"outlinewidth\":0,\"ticks\":\"\"}},\"type\":\"parcoords\"}],\"pie\":[{\"automargin\":true,\"type\":\"pie\"}],\"scatter\":[{\"marker\":{\"colorbar\":{\"outlinewidth\":0,\"ticks\":\"\"}},\"type\":\"scatter\"}],\"scatter3d\":[{\"line\":{\"colorbar\":{\"outlinewidth\":0,\"ticks\":\"\"}},\"marker\":{\"colorbar\":{\"outlinewidth\":0,\"ticks\":\"\"}},\"type\":\"scatter3d\"}],\"scattercarpet\":[{\"marker\":{\"colorbar\":{\"outlinewidth\":0,\"ticks\":\"\"}},\"type\":\"scattercarpet\"}],\"scattergeo\":[{\"marker\":{\"colorbar\":{\"outlinewidth\":0,\"ticks\":\"\"}},\"type\":\"scattergeo\"}],\"scattergl\":[{\"marker\":{\"colorbar\":{\"outlinewidth\":0,\"ticks\":\"\"}},\"type\":\"scattergl\"}],\"scattermapbox\":[{\"marker\":{\"colorbar\":{\"outlinewidth\":0,\"ticks\":\"\"}},\"type\":\"scattermapbox\"}],\"scatterpolar\":[{\"marker\":{\"colorbar\":{\"outlinewidth\":0,\"ticks\":\"\"}},\"type\":\"scatterpolar\"}],\"scatterpolargl\":[{\"marker\":{\"colorbar\":{\"outlinewidth\":0,\"ticks\":\"\"}},\"type\":\"scatterpolargl\"}],\"scatterternary\":[{\"marker\":{\"colorbar\":{\"outlinewidth\":0,\"ticks\":\"\"}},\"type\":\"scatterternary\"}],\"surface\":[{\"colorbar\":{\"outlinewidth\":0,\"ticks\":\"\"},\"colorscale\":[[0.0,\"#0d0887\"],[0.1111111111111111,\"#46039f\"],[0.2222222222222222,\"#7201a8\"],[0.3333333333333333,\"#9c179e\"],[0.4444444444444444,\"#bd3786\"],[0.5555555555555556,\"#d8576b\"],[0.6666666666666666,\"#ed7953\"],[0.7777777777777778,\"#fb9f3a\"],[0.8888888888888888,\"#fdca26\"],[1.0,\"#f0f921\"]],\"type\":\"surface\"}],\"table\":[{\"cells\":{\"fill\":{\"color\":\"#EBF0F8\"},\"line\":{\"color\":\"white\"}},\"header\":{\"fill\":{\"color\":\"#C8D4E3\"},\"line\":{\"color\":\"white\"}},\"type\":\"table\"}]},\"layout\":{\"annotationdefaults\":{\"arrowcolor\":\"#2a3f5f\",\"arrowhead\":0,\"arrowwidth\":1},\"autotypenumbers\":\"strict\",\"coloraxis\":{\"colorbar\":{\"outlinewidth\":0,\"ticks\":\"\"}},\"colorscale\":{\"diverging\":[[0,\"#8e0152\"],[0.1,\"#c51b7d\"],[0.2,\"#de77ae\"],[0.3,\"#f1b6da\"],[0.4,\"#fde0ef\"],[0.5,\"#f7f7f7\"],[0.6,\"#e6f5d0\"],[0.7,\"#b8e186\"],[0.8,\"#7fbc41\"],[0.9,\"#4d9221\"],[1,\"#276419\"]],\"sequential\":[[0.0,\"#0d0887\"],[0.1111111111111111,\"#46039f\"],[0.2222222222222222,\"#7201a8\"],[0.3333333333333333,\"#9c179e\"],[0.4444444444444444,\"#bd3786\"],[0.5555555555555556,\"#d8576b\"],[0.6666666666666666,\"#ed7953\"],[0.7777777777777778,\"#fb9f3a\"],[0.8888888888888888,\"#fdca26\"],[1.0,\"#f0f921\"]],\"sequentialminus\":[[0.0,\"#0d0887\"],[0.1111111111111111,\"#46039f\"],[0.2222222222222222,\"#7201a8\"],[0.3333333333333333,\"#9c179e\"],[0.4444444444444444,\"#bd3786\"],[0.5555555555555556,\"#d8576b\"],[0.6666666666666666,\"#ed7953\"],[0.7777777777777778,\"#fb9f3a\"],[0.8888888888888888,\"#fdca26\"],[1.0,\"#f0f921\"]]},\"colorway\":[\"#636efa\",\"#EF553B\",\"#00cc96\",\"#ab63fa\",\"#FFA15A\",\"#19d3f3\",\"#FF6692\",\"#B6E880\",\"#FF97FF\",\"#FECB52\"],\"font\":{\"color\":\"#2a3f5f\"},\"geo\":{\"bgcolor\":\"white\",\"lakecolor\":\"white\",\"landcolor\":\"#E5ECF6\",\"showlakes\":true,\"showland\":true,\"subunitcolor\":\"white\"},\"hoverlabel\":{\"align\":\"left\"},\"hovermode\":\"closest\",\"mapbox\":{\"style\":\"light\"},\"paper_bgcolor\":\"white\",\"plot_bgcolor\":\"#E5ECF6\",\"polar\":{\"angularaxis\":{\"gridcolor\":\"white\",\"linecolor\":\"white\",\"ticks\":\"\"},\"bgcolor\":\"#E5ECF6\",\"radialaxis\":{\"gridcolor\":\"white\",\"linecolor\":\"white\",\"ticks\":\"\"}},\"scene\":{\"xaxis\":{\"backgroundcolor\":\"#E5ECF6\",\"gridcolor\":\"white\",\"gridwidth\":2,\"linecolor\":\"white\",\"showbackground\":true,\"ticks\":\"\",\"zerolinecolor\":\"white\"},\"yaxis\":{\"backgroundcolor\":\"#E5ECF6\",\"gridcolor\":\"white\",\"gridwidth\":2,\"linecolor\":\"white\",\"showbackground\":true,\"ticks\":\"\",\"zerolinecolor\":\"white\"},\"zaxis\":{\"backgroundcolor\":\"#E5ECF6\",\"gridcolor\":\"white\",\"gridwidth\":2,\"linecolor\":\"white\",\"showbackground\":true,\"ticks\":\"\",\"zerolinecolor\":\"white\"}},\"shapedefaults\":{\"line\":{\"color\":\"#2a3f5f\"}},\"ternary\":{\"aaxis\":{\"gridcolor\":\"white\",\"linecolor\":\"white\",\"ticks\":\"\"},\"baxis\":{\"gridcolor\":\"white\",\"linecolor\":\"white\",\"ticks\":\"\"},\"bgcolor\":\"#E5ECF6\",\"caxis\":{\"gridcolor\":\"white\",\"linecolor\":\"white\",\"ticks\":\"\"}},\"title\":{\"x\":0.05},\"xaxis\":{\"automargin\":true,\"gridcolor\":\"white\",\"linecolor\":\"white\",\"ticks\":\"\",\"title\":{\"standoff\":15},\"zerolinecolor\":\"white\",\"zerolinewidth\":2},\"yaxis\":{\"automargin\":true,\"gridcolor\":\"white\",\"linecolor\":\"white\",\"ticks\":\"\",\"title\":{\"standoff\":15},\"zerolinecolor\":\"white\",\"zerolinewidth\":2}}},\"xaxis\":{\"anchor\":\"y\",\"domain\":[0.0,1.0],\"title\":{\"text\":\"x\"}},\"yaxis\":{\"anchor\":\"x\",\"domain\":[0.0,1.0],\"title\":{\"text\":\"y\"}},\"legend\":{\"tracegroupgap\":0},\"title\":{\"text\":\"MAPE loss (lower - better)\"},\"barmode\":\"relative\"},                        {\"responsive\": true}                    ).then(function(){\n",
       "                            \n",
       "var gd = document.getElementById('8bf67e8a-f388-4d7a-8d70-a37553308ff6');\n",
       "var x = new MutationObserver(function (mutations, observer) {{\n",
       "        var display = window.getComputedStyle(gd).display;\n",
       "        if (!display || display === 'none') {{\n",
       "            console.log([gd, 'removed!']);\n",
       "            Plotly.purge(gd);\n",
       "            observer.disconnect();\n",
       "        }}\n",
       "}});\n",
       "\n",
       "// Listen for the removal of the full notebook cells\n",
       "var notebookContainer = gd.closest('#notebook-container');\n",
       "if (notebookContainer) {{\n",
       "    x.observe(notebookContainer, {childList: true});\n",
       "}}\n",
       "\n",
       "// Listen for the clearing of the current output cell\n",
       "var outputEl = gd.closest('.output');\n",
       "if (outputEl) {{\n",
       "    x.observe(outputEl, {childList: true});\n",
       "}}\n",
       "\n",
       "                        })                };                });            </script>        </div>"
      ]
     },
     "metadata": {},
     "output_type": "display_data"
    }
   ],
   "source": [
    "import plotly.express as px\n",
    "results = {\n",
    "    \"x\": [\"Random Forest\", \"Light GBM\", \"XGBoost\", \"CatBoost\"],\n",
    "    \"y\": [0.174, 0.178, 0.151, 0.248]\n",
    "}\n",
    "\n",
    "fig = px.bar(results, x=\"x\", y=\"y\", title=\"MAPE loss (lower - better)\")\n",
    "fig.show()"
   ]
  },
  {
   "cell_type": "markdown",
   "id": "77736c5f",
   "metadata": {},
   "source": [
    "* Модель случайного леса занимает 1.5 гб, что достаточно много, поэтому в дальнейшем этот алгоритм испоьзоваться не будет\n",
    "* XGBoost обучается несколько быстрее Lightgbm, но оба эти алгоритма могут быть использованы далее"
   ]
  },
  {
   "cell_type": "markdown",
   "id": "f71c349f",
   "metadata": {},
   "source": [
    "# Написание функций для API\n",
    "\n",
    "Ниже мы предлагаем готовый api, который позволяет получить предсказания нашей модели.\n",
    "Небольшой manual:\n",
    "* predict_dataset - предсказывает датасет и возвращает датасет с пресказаниями\n",
    "* predict_one - ghtlcrfpsdftn b djpdhfoftn jlyj pyfxtybt\n",
    "* read_txt - обрабатывает текстовый файл и возвращает датафрейм\n",
    "* read_xlsx - читает excel файл и возвращает датафрейм"
   ]
  },
  {
   "cell_type": "code",
   "execution_count": null,
   "id": "36015321",
   "metadata": {},
   "outputs": [],
   "source": [
    "import pandas as pd\n",
    "import holidays\n",
    "\n",
    "def predict_dataset(df):\n",
    "    df_to_predict = df.copy()\n",
    "    # создание атрибута номер недели и день недели\n",
    "    df['Week'] = df['Date'].apply(lambda x: x.isocalendar()[1])\n",
    "    df['Week day'] = df['Date'].apply(lambda x: x.isocalendar()[1])\n",
    "    # создание атрибута праздник\n",
    "    ru_holidays = holidays.RU()\n",
    "    df['holiday'] = df['Date'].apply(lambda x: 1 if x in ru_holidays else 0)\n",
    "    # создание атрибута выходной\n",
    "    df['weekend'] = df['Date'].apply(lambda x: 1 if x.weekday() > 4 or x in ru_holidays else 0)\n",
    "    # удаление атрибута id\n",
    "    df = df.drop('Break flight ID', axis=1)\n",
    "    # удаление атрибута дата\n",
    "    df = df.drop('Date', axis=1)\n",
    "    # функция для преобразования времени\n",
    "    def time_processing(time_str):\n",
    "        return int(time_str.split(':')[2]) + int(time_str.split(':')[1])*60 + int(time_str.split(':')[0])*3600\n",
    "    # преобразование времени в секунды\n",
    "    df['Break flight start'] = df['Break flight start'].apply(time_processing)\n",
    "    df['Break flight end'] = df['Break flight end'].apply(time_processing)\n",
    "    df['Programme flight start'] = df['Programme flight start'].apply(time_processing)\n",
    "    df['Programme flight end'] = df['Programme flight end'].apply(time_processing)\n",
    "    # создание атрибута длительность рекламы\n",
    "    df['Break duration'] = df['Break flight end'] - df['Break flight start']\n",
    "    # создание атрибута длительность программы\n",
    "    df['Programme duration'] = df['Programme flight end'] - df['Programme flight start']\n",
    "    means_dict = pd.read_pickle('./means_dict.pkl')\n",
    "    df['Programme mean'] = df['Programme'].apply(lambda x: means_dict[x])\n",
    "    encoder = pd.read_pickle('./encoder.pkl')\n",
    "    for column in df.select_dtypes(include='object'):\n",
    "        df[column] = df[column].apply(lambda x: encoder[column][x])\n",
    "    df = df.drop('TVR Index Forecast', axis=1)\n",
    "    xgb = pd.read_pickle('./models/xgb.pkl')\n",
    "    df_to_predict['TVR Index Forecast'] = xgb.predict(df)\n",
    "    return df_to_predict\n",
    "\n",
    "def predict_one(df):\n",
    "    df_to_predict = predict_dataset(df)\n",
    "    return df_to_predict['TVR Index Forecast'][0]\n",
    "\n",
    "# функция для чтения txt\n",
    "def read_txt(file_path, parse_dates=[]):\n",
    "    with open(file_path, 'r', encoding='utf-8') as file:\n",
    "        data = file.read()\n",
    "    lines = data.split('\\n')\n",
    "    tab_separated_data = StringIO('\\n'.join(lines))\n",
    "    df = pd.read_csv(tab_separated_data, sep='\\t', parse_dates=parse_dates, dayfirst=True)\n",
    "    return df\n",
    "\n",
    "# функция для чтения xlsx\n",
    "def read_xlsx(file_path):\n",
    "    df = pd.read_excel(file_path)\n",
    "    time_arr = ['Break flight start', 'Break flight end','Programme flight start','Programme flight end']\n",
    "    for column in time_arr:\n",
    "        df[column] = df[column].apply(lambda x: str(x))\n",
    "    return df"
   ]
  },
  {
   "cell_type": "code",
   "execution_count": null,
   "id": "8749b4d4",
   "metadata": {},
   "outputs": [],
   "source": [
    "# пример вызова\n",
    "\n",
    "# чтение текста\n",
    "file_path = './data/test.txt'\n",
    "parse_dates=[0]\n",
    "df = read_data(file_path, parse_dates)\n",
    "\n",
    "# предсказание\n",
    "pred = predict_dataset(df)\n",
    "\n",
    "# предсказание 1\n",
    "pred = predict_one(df.iloc[:1])"
   ]
  }
 ],
 "metadata": {
  "kernelspec": {
   "display_name": "Python 3 (ipykernel)",
   "language": "python",
   "name": "python3"
  },
  "language_info": {
   "codemirror_mode": {
    "name": "ipython",
    "version": 3
   },
   "file_extension": ".py",
   "mimetype": "text/x-python",
   "name": "python",
   "nbconvert_exporter": "python",
   "pygments_lexer": "ipython3",
   "version": "3.9.12"
  }
 },
 "nbformat": 4,
 "nbformat_minor": 5
}
